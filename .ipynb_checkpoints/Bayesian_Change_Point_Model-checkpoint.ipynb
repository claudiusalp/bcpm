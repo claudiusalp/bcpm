{
 "cells": [
  {
   "cell_type": "markdown",
   "metadata": {},
   "source": [
    "# Bayesian Change Point Model"
   ]
  },
  {
   "cell_type": "markdown",
   "metadata": {},
   "source": [
    "## Utility Functions"
   ]
  },
  {
   "cell_type": "code",
   "execution_count": 1,
   "metadata": {
    "collapsed": false
   },
   "outputs": [],
   "source": [
    "import numpy as np\n",
    "import matplotlib.pyplot as plt\n",
    "from matplotlib import gridspec\n",
    "import scipy as sp\n",
    "import pandas as pd\n",
    "from operator import attrgetter\n",
    "from IPython.display import Image\n",
    "np.set_printoptions(precision=8)\n",
    "\n",
    "import pml\n",
    "import time\n",
    "import pickle\n",
    "import operator\n",
    "\n",
    "%matplotlib inline\n",
    "\n",
    "# from IPython.core.display import display, HTML\n",
    "# display(HTML(\"<style>.container { width:100% !important; }</style>\"))\n",
    "# https://github.com/adam-p/markdown-here/wiki/Markdown-Cheatsheet#links\n",
    "\n",
    "def randgen(pr, N=1): \n",
    "    L = len(pr)\n",
    "    return np.random.choice(range(L), size=N, replace=True, p=pr/np.sum(pr))\n",
    "\n",
    "def log_sum_exp(l, axis=0):\n",
    "    l_star = np.max(l, axis=axis, keepdims=True)\n",
    "    return l_star + np.log(np.sum(np.exp(l - l_star),axis=axis,keepdims=True)) \n",
    "\n",
    "def normalize_exp(log_P, axis=0):\n",
    "    a = np.max(log_P, keepdims=True, axis=axis)\n",
    "    P = normalize(np.exp(log_P - a), axis=axis)\n",
    "    return P\n",
    "\n",
    "def normalize(A, axis=0):\n",
    "    Z = np.sum(A, axis=axis, keepdims=True)\n",
    "    idx = np.where(Z == 0)\n",
    "    Z[idx] = 1\n",
    "    return A/Z\n",
    "\n",
    "# loading in pml format\n",
    "def load_array(filename):\n",
    "    X = np.loadtxt(filename)\n",
    "    dim = int(X[0]);\n",
    "    size = []\n",
    "    for i in range(dim):\n",
    "        size.append(int(X[i+1]));    \n",
    "    X = np.reshape(X[dim+1:], size, order='F')\n",
    "    return X;\n",
    "        \n",
    "# saving in pml format\n",
    "def save_array(filename, X, format = '%.6f'):\n",
    "    with open(filename, 'w') as f:\n",
    "        dim = len(X.shape)\n",
    "        f.write('%d\\n' % dim)\n",
    "        for i in range(dim):\n",
    "            f.write('%d\\n' % X.shape[i])\n",
    "        temp = X.reshape(np.product(X.shape), order='F')\n",
    "        for num in temp:\n",
    "            f.write(str(num)+\"\\n\")\n",
    "        # np.savetxt(f, temp, fmt = format)\n",
    "        \n",
    "def plot_hist(data,xlines,title=\"\",xlabel=\"\",ylabel=\"\",label_='changepoints'):\n",
    "    (K,T) = data.shape\n",
    "    fig = plt.figure(figsize=(30,4))\n",
    "    ax = fig.gca()\n",
    "    y,x = np.mgrid[slice(0, K+1, 1),slice(0,T+1,1)]\n",
    "    im = ax.pcolormesh(x, y, data, cmap=cm.gray)\n",
    "    fig.colorbar(im)\n",
    "    ax.hold(True)\n",
    "    plt1 = ax.vlines(np.arange(0,T), 0, xlines*K, colors='r', linestyles='-',label=label_,linewidth='3')\n",
    "    ax.set_title(title)\n",
    "    ax.set_xlabel(xlabel)\n",
    "    ax.set_ylabel(ylabel)\n",
    "    ax.legend(handles=[plt1])\n",
    "    fig.canvas.draw()"
   ]
  },
  {
   "cell_type": "markdown",
   "metadata": {},
   "source": [
    "# Generative Model"
   ]
  },
  {
   "cell_type": "markdown",
   "metadata": {},
   "source": [
    "Bayesian change point model is an example of hierarchical hidden Markov models. The model is described by three sets of variables: switches, latent dynamics and observations, denoted respectively by $s_t$, $h_t$ and $v_t$. The switch variable $s_t$ has a discrete space. Conditioned on the switches, $h_t$ is a Markov chain. Furthermore, observations $v_t$ are conditioned on latent states $h_t$. The graphical representation of the resulting model is given below:.\n"
   ]
  },
  {
   "cell_type": "code",
   "execution_count": 2,
   "metadata": {
    "collapsed": false
   },
   "outputs": [
    {
     "data": {
      "image/png": "[encoded data removed]",
      "text/plain": [
       "<IPython.core.display.Image object>"
      ]
     },
     "execution_count": 2,
     "metadata": {
      "image/png": {
       "height": 200,
       "width": 600
      }
     },
     "output_type": "execute_result"
    }
   ],
   "source": [
    "Image(filename='etc/graphical_model.png', width=600, height=200)"
   ]
  },
  {
   "cell_type": "markdown",
   "metadata": {},
   "source": [
    "In this notebook, we focus on a special kind of change point models, in which $s_t$ is a binary variable (Such models are also known as _reset_ models). The initial latent variable $h_0$ is drawn from reset model $\\Omega(h)$. At each time step $t$, the switch $s_t$ is either _on_ or _off_. In the former case, or when $s_t=1$, the present is isolated from the past and $h_t$ is re-drawn from the reset model. When $s_t=0$, the model continues with the current latent dynamics. Two other model assumptions are _(i)_ the switches are conditionally independent from all other variables and _(ii)_ the observation at time t, $v_t$, is assumed to be a random variable sampled from the observation model $\\Theta(v)$ with an unknown parameter $h_t$. Thus, the complete generative model is given as:\n",
    "\n",
    "\\begin{align}\n",
    "h_0  &\\sim \\Omega(h_0;w) \\\\\n",
    "s_t  &\\sim \\mathcal{BE}(s_t;\\pi) \\\\\n",
    "h_t | s_t, h_{t-1}  &\\sim [s_{t}=0] \\delta(h_{t} - h_{t-1}) + [s_{t}=1] \\Omega(h_t;w)\\\\\n",
    "v_t | h_t  &\\sim \\Theta(v_t; h_t) \n",
    "\\end{align}\n",
    "\n",
    "where $\\delta$ is Dirac delta function, and $\\mathcal{BE}(\\cdot;\\pi)$ is the Bernoulli distribution with parameter $\\pi$ and defined as follows: \n",
    "\n",
    "\\begin{equation}\n",
    "\\mathcal{BE} (s; \\pi) =  \\exp \\left( s\\log\\pi + (1-s)\\log (1-\\pi)   \\right) \n",
    "\\end{equation}"
   ]
  },
  {
   "cell_type": "markdown",
   "metadata": {},
   "source": [
    "# Model Specifications\n",
    "Inference and parameter learning methods can be implemented independent of the observation model $\\Theta$ and reset model $\\Omega$. Depending on the application and the characteristics of the data set, these models can be set appropriately. It is worthwhile to note that the computations are typically easier if the models are discrete or $\\Theta$ is the conjugate prior of $\\Omega$. Below, we see two different model specifications.\n",
    "\n",
    "## Gamma-Poisson (GP) Model\n",
    "Given a data set consisting of nonnegative integers, this model assumes that the observation $v_t$ is a Poisson random variable with intensity parameter $h_t$. To model the uncertainty over Poisson intensity, we use gamma distribution since both its support and Poisson intensity parameters are positive real numbers. Consequently, reset hyperparameter is a couple of real numbers, ${w=(a,b)}$, which denote the shape and scale parameters of gamma distribution. Also, forward and backward messages in this setup store a mixture of gamma potentials over $h_t$. Below are the probability mass/distribution functions of Poisson and gamma distributions: \n",
    "\n",
    "\\begin{alignat}{3}\n",
    "\\Omega(h;w) &= \\mathcal{G}(h;a,b) &&= \\frac{{b}^{a}}{\\Gamma(a)} h^{a-1} e^{-bh} \\\\\n",
    "\\Theta(v; h) &=\t\\mathcal{P}(v; h) &&= \\frac{h^v e^{-h}}{\\Gamma(v+1)}\n",
    "\\end{alignat}\n",
    "\n",
    "## Dirichlet-Multinomial (DM) Model\n",
    "If the observations are $K\\geq2$ dimensional vectors of nonnegative integers, the observations could be modeled as multinomial random variables. This assumption enforces the latent variable $h_t$, or the parameter of the multinomial distribution, to be a $K\\geq2$ dimensional vector whose elements are nonnegative and sum up to 1. Dirichlet distribution fits this setup very well since it is a distribution over $K-$simplex:\n",
    "\n",
    "\\begin{alignat}{3}\n",
    "\\Omega(h;w) &= \\mathcal{Dir}(h; w) &&= \\frac{\\Gamma \\left( \\sum_{i=1}^M w_k \\right)} {\\sum_{i=1}^M \\Gamma(w_i)} \\prod_{i=1}^M h_{i}^{w_i-1} \\\\\n",
    "\\Theta(v; h) &= \\mathcal{M}(v; h) &&= \\frac{\\Gamma(\\sum_i v_i+1)}{\\prod_i \\Gamma(v_i+1)} \\prod_i h_i^{v_i} \n",
    "\\end{alignat}"
   ]
  },
  {
   "cell_type": "markdown",
   "metadata": {},
   "source": [
    "# Example Data Sets"
   ]
  },
  {
   "cell_type": "markdown",
   "metadata": {},
   "source": [
    "## Coal Mining Disasters"
   ]
  },
  {
   "cell_type": "code",
   "execution_count": 32,
   "metadata": {
    "collapsed": false
   },
   "outputs": [
    {
     "name": "stdout",
     "output_type": "stream",
     "text": [
      "[ 4.  5.  4.  1.  0.  4.  3.  4.  0.  6.  3.  3.  4.  0.  2.  6.  3.  3.\n",
      "  5.  4.  5.  3.  1.  4.  4.  1.  5.  5.  3.  4.  2.  5.  2.  2.  3.  4.\n",
      "  2.  1.  3.  2.  2.  1.  1.  1.  1.  3.  0.  0.  1.  0.  1.  1.  0.  0.\n",
      "  3.  1.  0.  3.  2.  2.  0.  1.  1.  1.  0.  1.  0.  1.  0.  0.  0.  2.\n",
      "  1.  0.  0.  0.  1.  1.  0.  2.  3.  3.  1.  1.  2.  1.  1.  1.  1.  2.\n",
      "  4.  2.  0.  0.  0.  1.  4.  0.  0.  0.  1.  0.  0.  0.  0.  0.  1.  0.\n",
      "  0.  1.  0.  1.]\n"
     ]
    },
    {
     "data": {
      "text/plain": [
       "([<matplotlib.axis.YTick at 0x7f9252f9bcf8>,\n",
       "  <matplotlib.axis.YTick at 0x7f9252f8ee48>,\n",
       "  <matplotlib.axis.YTick at 0x7f9252f9b1d0>,\n",
       "  <matplotlib.axis.YTick at 0x7f9252f5d898>],\n",
       " <a list of 4 Text yticklabel objects>)"
      ]
     },
     "execution_count": 32,
     "metadata": {},
     "output_type": "execute_result"
    },
    {
     "data": {
      "image/png": "[encoded data removed]",
      "text/plain": [
       "<matplotlib.figure.Figure at 0x7f9252fd5128>"
      ]
     },
     "metadata": {},
     "output_type": "display_data"
    }
   ],
   "source": [
    "accidents = np.loadtxt(\"etc/coal_mining.txt\")\n",
    "print(accidents)\n",
    "K = len(accidents)\n",
    "\n",
    "plt.figure(figsize=(15,5))\n",
    "plt.ylim([0,np.max(accidents)+3])\n",
    "plt.vlines(np.arange(K), np.zeros(K), accidents)\n",
    "plt.ylim([0,7])\n",
    "plt.title(\"Coal-mining disasters involving 10 or more men killed\", fontsize=18)\n",
    "plt.ylabel(\"Number of accidents\", fontsize=15)\n",
    "plt.xlabel(\"Years\", fontsize=15)\n",
    "plt.xticks(np.arange(6)*20,np.arange(6)*20+1851)\n",
    "plt.yticks(np.arange(4)*2+1,np.arange(4)*2+1)"
   ]
  },
  {
   "cell_type": "markdown",
   "metadata": {},
   "source": [
    "# Inference\n",
    "Provided that the model parameters $w$ and $\\pi$ are known, we can calculate the posterior marginals of the hidden variables $s_{1:T}$, and $h_{0:T}$, therefore detect the change points, via forward-backward algorithm. \n",
    "\n",
    "## Forward Recursion\n",
    "Forward recursion allows us to infer the probability distribution over latent states ${s_t, h_t}$ conditioned on all observations until time $t$. In order to formulate the recursion, we need to define two variables:\n",
    "\n",
    "\\begin{align}\n",
    "\t\\alpha_{t|t}(s_t, h_t) &= p(s_t, h_t, v_{1:t}) \\\\\n",
    "\t\\alpha_{t|t-1}(s_t, h_t) &= p(s_t, h_t, v_{1:t-1})\n",
    "\\end{align}\n",
    "\n",
    "These are refered as _forward_ and _forward-predict_ variables, respectively. What is called filtering change point posterior $p(s_t|v_{1:T})$ at time $t$ is then proportional to the forward message:\n",
    "\\begin{align}\n",
    "\t p(s_t | v_{1:t}) &= \\int_{h_t} p(s_t, h_t| v_{1:t}) \\\\\n",
    "\t &\\propto \\int_{h_t} \\alpha_{t|t}(s_t, h_t)\n",
    "\\end{align}\n",
    "As new observations arrive, forward-predict and forward messages are alternatively calculated and the posterior probabilities of latent states as propagated as follows:\n",
    "\n",
    "\\begin{align}\n",
    "\t\\alpha_{t|t}(s_t, h_t) &= p(s_t, h_t, v_{1:t}) \\\\\n",
    "    &= p(v_t | s_t, h_t) \\underbrace{ p(s_t, h_t, v_{1:t-1})}_{\\alpha_{t|t-1}(s_{t-1}, h_{t-1})} \\\\\n",
    "    &= p(v_t | h_t) \\sum_{s_{t-1}} \\int_{h_{t-1}} p(s_{t-1}, h_{t-1}, s_t, h_t, v_{1:t-1}) \\\\\n",
    "    &= p(v_t | h_t) \\sum_{s_{t-1}} \\int_{h_{t-1}} p(s_{t-1}, h_{t-1}, v_{1:{t-1}}) p(s_t, h_t | s_{t-1},h_{t-1}) d h_{t-1}\\\\\n",
    "    &= p(v_t | h_t) \\sum_{s_{t-1}} \\int_{h_{t-1}} \\alpha_{t-1|t-1}(s_{t-1}, h_{t-1}) p(h_t | s_{t},h_{t-1})p(s_t) d h_{t-1}\\\\\n",
    "    &= p(v_t | h_t) \\sum_{s_{t-1}} \\int_{h_{t-1}} \\alpha_{t-1|t-1}(s_{t-1}, h_{t-1}) \\Big( \\Big. \\delta(h_{t}-h_{t-1})p(s_t=0) + p(h_t)p(s_t=1)  \\Big. \\Big) d h_{t-1} \n",
    "\\end{align}\n",
    "\n",
    "\n",
    "## Backward Recursion\n",
    "Derivation of backward recursion is very similar to that of forward recursion. Let us again define the backward messages:\n",
    "\n",
    "\\begin{align}\n",
    "\\beta_{t-1|t}(s_{t-1}, h_{t-1}) &= p(v_{t:T} | s_{t-1}, h_{t-1}) \\\\\n",
    "\\beta_{t|t}(s_{t}, h_{t}) &= p(v_{t:T} | s_{t}, h_{t}) \n",
    "\\end{align}\n",
    "\n",
    "Above messages are referred as _beta-postdict_ and _beta_ messages. Product of beta-postdict message and the observation model gives the beta message as shown below:\n",
    "\n",
    "\\begin{align}\n",
    "\\beta_{t|t}(s_{t}, h_{t}) &= \\beta_{t|t+1}(s_{t}, h_{t}) p(v_{t} | h_{t})\n",
    "\\end{align}\n",
    "\n",
    "We now examine the backward propagation step, which is slightly more complex than forward recursions:\n",
    "\n",
    "\\begin{align}\n",
    "\\beta_{t-1|t}(s_{t-1}, h_{t-1}) &= p(v_{t:T}|s_{t-1}, h_{t-1}) \\\\\n",
    "&= \\sum_{s_{t}} \\int_{h_{t}} p(v_{t:T}, s_{t},h_{t}|s_{t-1}, h_{t-1}) d h_{t} \\\\ \n",
    "&= \\sum_{s_{t}} \\int_{h_{t}} p(v_{t:T}| s_{t},h_{t}) p(s_t,h_t|s_{t-1}, h_{t-1}) d h_{t} \\\\ \n",
    "&= \\sum_{s_{t}} \\int_{h_{t}} \\beta_{t|t}(s_{t}, h_{t}) p(h_{t} | s_{t}, h_{t-1}) p(s_{t}) d h_{t} \\\\\n",
    "&= \\int_{h_{t}}  \\beta_{t|t}(s_{t}, h_{t}) \\Big(  \\delta(h_{t}-h_{t-1})p(s_{t}=0) + p(h_{t})p(s_{t}=1) \\Big) d h_{t}\n",
    "\\end{align}\n",
    "\n",
    "\n",
    "## Smoothing\n",
    "The posteriors probabilities can be obtained by multiplying forward and backward messages:\n",
    "\n",
    "\\begin{align}\n",
    "p(s_t, h_t|v_{1:T}) &\\propto  p(s_t, h_t,v_{1:T}) \\\\\n",
    "&= p(s_t, h_t, v_{1:t}) p(v_{t+1:T} | s_t, h_t, v_{1:t}) \\\\\n",
    "&= p(s_t, h_t, v_{1:t}) p(v_{t+1:T} | s_t, h_t) \\\\\n",
    "&= \\alpha_{t|t}(s_t, h_t) \\beta_{t|t+1}(s_t, h_t)\n",
    "\\end{align}\n",
    "\n",
    "If the inference task is online, calculating posterior probabilities conditioned on the full history becomes infeasible. This is because the cost of executing backward recursions increases linearly with time, and backward recursions must be executed at each new observation. For online problems we typically use **fixed lag smoothers**, in which a fixed number of backward recursions are performed so that the computational complexity would be independent of time. This fixed number is known as **lag**. If the lag is $L$, posterior probabilities at time $t$ is calculated conditioned on the observations up to time $t+L$:\n",
    "\n",
    "\\begin{align}\n",
    "\tp(s_t, h_t, v_{1:t+L}) &= p(s_t, h_t, v_{1:t}) p(v_{t+1:t+L} | s_t, h_t) \n",
    "\\end{align}\n",
    "\n",
    "The second expression on the right hand side of the equality is computed by executing backward recursions for $L$ steps, starting from the observation at time $t+L$.\n",
    "\n",
    "\n",
    "## Complexity Analysis of Forward-Backward\n",
    "When the state space of $h_t$ is discrete, the model reduces to classical HMMs. In this case, the latent state space is simply the Cartesian product of those of $s_t$ and $h_t$. That is to say, forward variables are $2\\times |h_t|$ dimensional matrices, where $|h_t|$ denotes the length of the hidden variable. \n",
    "\n",
    "When $h_t$ is continuous, however, inference would be different than HMMs. At first glance, the inference might seem to be intractable since we try to sum over exponentially many switch settings to calculate the posterior. However, thanks to the forgetting property of the model, it is possible to implement forward-backward routine efficient, i.e., quadratic with the number of observations $T$. We first define the two components of the forward message given above as follows: \n",
    "\n",
    "\\begin{align}\n",
    "p(s_t=0, h_t, v_{1:t}) &= p(v_t | h_t) \\sum_{s_{t-1}} \\int_{h_{t-1}} p(s_{t-1}, h_{t-1}, v_{1:t-1}) \\delta(h_{t}-h_{t-1})p(s_t=0) d h_{t-1}  \\\\ \n",
    "p(s_t=1, h_t, v_{1:t}) &= p(v_t | h_t) \\sum_{s_{t-1}} \\int_{h_{t-1}} p(s_{t-1}, h_{t-1}, v_{1:t-1}) p(h_t)p(s_t=1) d h_{t-1} \\\\\n",
    "&= p(v_t | h_t) p(v_{1:t-1}) p(h_t)p(s_t=1)\n",
    "\\end{align}\n",
    "\n",
    "In our terminology, the first term $p(s_t=0, h_t, v_{1:t})$ above corresponds to _no-change_ and the second term is refered as _change_ case. In a no-change case, the forward message at time $t-1$ is multiplied by observation probability and change point prior. Informally speaking, probability distribution over $h_{t-1}$ is updated and _transferred_ to $h_{t}$, due to the integral and Dirac delta function. In a change case however, $p(h_t)$ is reset to $\\Omega(h_t;w)$, meaning it is a single component whose parameter is independent of previous message. \n",
    "\n",
    "Overall, the forward message $\\alpha_{t|t}(s_t, h_t)$ is computed by updating the previous message (formulated in no-change case) and adding one more component (change case). Therefore, if $\\alpha_{t-1|t-1}(s_{t-1}, h_{t-1})$ is a mixture with $K$ components, the next forward message would have $K+1$ components. In other words, the number of components grows only linearly with time, and the complexity of forward recursions becomes $O(T^2)$. Although the computational effort is far less than exponential, filtering is still too expensive for long time series. An approximation to the exact posterior could be performed by setting an upper limit on the number of mixture components. This can be done by eliminating the component with the smallest normalization constant after each update step. Empirically, we observe that keeping only 50 components while doing the inference on time series consisting of 2000-3000 observations would be sufficient."
   ]
  },
  {
   "cell_type": "code",
   "execution_count": null,
   "metadata": {
    "collapsed": true
   },
   "outputs": [],
   "source": []
  },
  {
   "cell_type": "code",
   "execution_count": null,
   "metadata": {
    "collapsed": true
   },
   "outputs": [],
   "source": []
  }
 ],
 "metadata": {
  "kernelspec": {
   "display_name": "Python 3",
   "language": "python",
   "name": "python3"
  },
  "language_info": {
   "codemirror_mode": {
    "name": "ipython",
    "version": 3
   },
   "file_extension": ".py",
   "mimetype": "text/x-python",
   "name": "python",
   "nbconvert_exporter": "python",
   "pygments_lexer": "ipython3",
   "version": "3.5.1"
  }
 },
 "nbformat": 4,
 "nbformat_minor": 0
}
